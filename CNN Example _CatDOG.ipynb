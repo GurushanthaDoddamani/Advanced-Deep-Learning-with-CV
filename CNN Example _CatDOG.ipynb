{
 "cells": [
  {
   "cell_type": "markdown",
   "metadata": {},
   "source": [
    "# Goal: Create a model that can classify cat and dog images"
   ]
  },
  {
   "cell_type": "code",
   "execution_count": 2,
   "metadata": {},
   "outputs": [],
   "source": [
    "import tensorflow as tf"
   ]
  },
  {
   "cell_type": "code",
   "execution_count": 8,
   "metadata": {},
   "outputs": [],
   "source": [
    "# Preprocessing --- Goal is to make your data compatible for CNN !!!\n",
    "# Tensorflow offers direct classes to achieve the same\n",
    "\n",
    "# Image Generators\n",
    "# rescale= 1.0 / 255.  ensures my intensities of each pixel will be in the range of 0 - 255 (Image Normalization)\n",
    "\n",
    "train_generator = tf.keras.preprocessing.image.ImageDataGenerator(  rescale= 1.0 / 255. ,\n",
    "                                                                    rotation_range=30,\n",
    "                                                                    zoom_range=0.2,\n",
    "                                                                    horizontal_flip=True, \n",
    "                                                                    fill_mode='nearest' )\n",
    "test_generator = tf.keras.preprocessing.image.ImageDataGenerator( rescale= 1.0 / 255. )"
   ]
  },
  {
   "cell_type": "code",
   "execution_count": 20,
   "metadata": {},
   "outputs": [
    {
     "name": "stdout",
     "output_type": "stream",
     "text": [
      "Found 17 images belonging to 2 classes.\n"
     ]
    }
   ],
   "source": [
    "#Image Gen for Cat\n",
    "imageGen = train_generator.flow_from_directory(\"catDataset/\",\n",
    "                         batch_size=1,\n",
    "                         save_to_dir=\"outputCatDog/cat/\", #Ensure the directory exists else prog will throw error\n",
    "                         save_prefix=\"cat-\",\n",
    "                         save_format=\"jpg\")\n",
    "counter = 0\n",
    "for generatedImage in imageGen:\n",
    "    \n",
    "    counter += 1 \n",
    "    \n",
    "    if counter == 250:\n",
    "        break"
   ]
  },
  {
   "cell_type": "code",
   "execution_count": 24,
   "metadata": {},
   "outputs": [
    {
     "name": "stdout",
     "output_type": "stream",
     "text": [
      "Found 17 images belonging to 2 classes.\n"
     ]
    }
   ],
   "source": [
    "#Image Gen for dog\n",
    "imageGen = train_generator.flow_from_directory(\"dogDataset/\",\n",
    "                         batch_size=1,\n",
    "                         save_to_dir=\"outputCatDog/dog/\", #Ensure the directory exists else prog will throw error\n",
    "                         save_prefix=\"dog-\",\n",
    "                         save_format=\"jpg\")\n",
    "counter = 0\n",
    "for generatedImage in imageGen:\n",
    "    \n",
    "    counter += 1 \n",
    "    \n",
    "    if counter == 250:\n",
    "        break"
   ]
  },
  {
   "cell_type": "code",
   "execution_count": 3,
   "metadata": {},
   "outputs": [
    {
     "name": "stdout",
     "output_type": "stream",
     "text": [
      "Found 2502 images belonging to 3 classes.\n",
      "Found 1000 images belonging to 2 classes.\n"
     ]
    }
   ],
   "source": [
    "# Pass the images through generator to generate compatible inputs\n",
    "train_generator1 = tf.keras.preprocessing.image.ImageDataGenerator(  rescale= 1.0 / 255.\n",
    "                                                                  )\n",
    "test_generator1 = tf.keras.preprocessing.image.ImageDataGenerator( rescale= 1.0 / 255. )\n",
    "\n",
    "trainImageData = train_generator1.flow_from_directory('cats_and_dogs/train' ,\n",
    "                                                    batch_size=20,\n",
    "                                                    class_mode='binary',\n",
    "                                                    target_size=(64,64)) \n",
    "\n",
    "\n",
    "testImageData = train_generator1.flow_from_directory('cats_and_dogs/validation' ,\n",
    "                                                    batch_size=20,\n",
    "                                                    class_mode='binary',\n",
    "                                                    target_size=(64,64)) "
   ]
  },
  {
   "cell_type": "code",
   "execution_count": 26,
   "metadata": {},
   "outputs": [
    {
     "data": {
      "text/plain": [
       "(64, 64, 3)"
      ]
     },
     "execution_count": 26,
     "metadata": {},
     "output_type": "execute_result"
    }
   ],
   "source": [
    "#Architect our CNN\n",
    "trainImageData.image_shape"
   ]
  },
  {
   "cell_type": "code",
   "execution_count": 27,
   "metadata": {},
   "outputs": [],
   "source": [
    "model = tf.keras.models.Sequential()\n",
    "#Conv2D(noFeatureMaps , kernelShape, input_shape, activation)\n",
    "\n",
    "\n",
    "#Step1: Create First Convolutional Layer\n",
    "#Convolve Layer\n",
    "model.add(tf.keras.layers.Conv2D(32 , (3,3) , input_shape = (64, 64, 3) , activation = 'relu' , padding='same'))\n",
    "#Pooling Layer\n",
    "model.add(tf.keras.layers.MaxPooling2D(pool_size = (2,2) ))\n",
    "#model.add(tf.keras.layers.AveragePooling2D(pool_size = (2,2) ))\n",
    "\n",
    "#Step2: Create Second Convolutional Layer\n",
    "#Convolve Layer\n",
    "model.add(tf.keras.layers.Conv2D(16 , (3,3) , activation = 'relu' , padding='same'))\n",
    "#Pooling Layer\n",
    "model.add(tf.keras.layers.MaxPooling2D(pool_size = (2,2) ))\n",
    "\n",
    "#Step3: Flatten\n",
    "\n",
    "model.add(tf.keras.layers.Flatten())\n",
    "\n",
    "#Step4:\n",
    "\n",
    "model.add(tf.keras.layers.Dense(units= 512 , activation = 'relu'))\n",
    "model.add(tf.keras.layers.Dense(units= 256 , activation = 'relu'))\n",
    "\n",
    "model.add(tf.keras.layers.Dense(units= 1 , activation = 'sigmoid'))\n"
   ]
  },
  {
   "cell_type": "code",
   "execution_count": null,
   "metadata": {},
   "outputs": [],
   "source": []
  },
  {
   "cell_type": "code",
   "execution_count": 28,
   "metadata": {},
   "outputs": [
    {
     "name": "stdout",
     "output_type": "stream",
     "text": [
      "Model: \"sequential_1\"\n",
      "_________________________________________________________________\n",
      "Layer (type)                 Output Shape              Param #   \n",
      "=================================================================\n",
      "conv2d_2 (Conv2D)            (None, 64, 64, 32)        896       \n",
      "_________________________________________________________________\n",
      "max_pooling2d_2 (MaxPooling2 (None, 32, 32, 32)        0         \n",
      "_________________________________________________________________\n",
      "conv2d_3 (Conv2D)            (None, 32, 32, 16)        4624      \n",
      "_________________________________________________________________\n",
      "max_pooling2d_3 (MaxPooling2 (None, 16, 16, 16)        0         \n",
      "_________________________________________________________________\n",
      "flatten_1 (Flatten)          (None, 4096)              0         \n",
      "_________________________________________________________________\n",
      "dense_3 (Dense)              (None, 512)               2097664   \n",
      "_________________________________________________________________\n",
      "dense_4 (Dense)              (None, 256)               131328    \n",
      "_________________________________________________________________\n",
      "dense_5 (Dense)              (None, 1)                 257       \n",
      "=================================================================\n",
      "Total params: 2,234,769\n",
      "Trainable params: 2,234,769\n",
      "Non-trainable params: 0\n",
      "_________________________________________________________________\n"
     ]
    }
   ],
   "source": [
    "model.summary()"
   ]
  },
  {
   "cell_type": "code",
   "execution_count": 29,
   "metadata": {},
   "outputs": [],
   "source": [
    "#Compile\n",
    "model.compile(optimizer=\"adam\",\n",
    "             loss=\"binary_crossentropy\",\n",
    "              metrics=['accuracy']\n",
    "             )"
   ]
  },
  {
   "cell_type": "code",
   "execution_count": 30,
   "metadata": {},
   "outputs": [
    {
     "data": {
      "text/plain": [
       "125"
      ]
     },
     "execution_count": 30,
     "metadata": {},
     "output_type": "execute_result"
    }
   ],
   "source": [
    "int(len(trainImageData.filenames) / trainImageData.batch_size)"
   ]
  },
  {
   "cell_type": "code",
   "execution_count": 31,
   "metadata": {},
   "outputs": [
    {
     "name": "stdout",
     "output_type": "stream",
     "text": [
      "WARNING:tensorflow:sample_weight modes were coerced from\n",
      "  ...\n",
      "    to  \n",
      "  ['...']\n"
     ]
    },
    {
     "name": "stderr",
     "output_type": "stream",
     "text": [
      "WARNING:tensorflow:sample_weight modes were coerced from\n",
      "  ...\n",
      "    to  \n",
      "  ['...']\n"
     ]
    },
    {
     "name": "stdout",
     "output_type": "stream",
     "text": [
      "WARNING:tensorflow:sample_weight modes were coerced from\n",
      "  ...\n",
      "    to  \n",
      "  ['...']\n"
     ]
    },
    {
     "name": "stderr",
     "output_type": "stream",
     "text": [
      "WARNING:tensorflow:sample_weight modes were coerced from\n",
      "  ...\n",
      "    to  \n",
      "  ['...']\n"
     ]
    },
    {
     "name": "stdout",
     "output_type": "stream",
     "text": [
      "Train for 125 steps, validate for 50 steps\n",
      "Epoch 1/50\n",
      "125/125 [==============================] - 28s 223ms/step - loss: -11352584.1682 - accuracy: 0.5002 - val_loss: 91315709.2000 - val_accuracy: 0.5000\n",
      "Epoch 2/50\n",
      "125/125 [==============================] - 23s 187ms/step - loss: -2208105845.9252 - accuracy: 0.4978 - val_loss: 8159859425.2800 - val_accuracy: 0.5000\n",
      "Epoch 3/50\n",
      "125/125 [==============================] - 24s 190ms/step - loss: -37271500189.2609 - accuracy: 0.5006 - val_loss: 90599693189.1200 - val_accuracy: 0.5000\n",
      "Epoch 4/50\n",
      "125/125 [==============================] - 24s 191ms/step - loss: -238126686831.2588 - accuracy: 0.5002 - val_loss: 459773519462.4000 - val_accuracy: 0.5000\n",
      "Epoch 5/50\n",
      "125/125 [==============================] - 24s 189ms/step - loss: -915315611781.5826 - accuracy: 0.4998 - val_loss: 1522134417408.0000 - val_accuracy: 0.5000\n",
      "Epoch 6/50\n",
      "125/125 [==============================] - 24s 189ms/step - loss: -2605010545980.0059 - accuracy: 0.4994 - val_loss: 3923705515212.7998 - val_accuracy: 0.5000\n",
      "Epoch 7/50\n",
      "125/125 [==============================] - 24s 192ms/step - loss: -6110005114278.2031 - accuracy: 0.4994 - val_loss: 8601810554060.7998 - val_accuracy: 0.5000\n",
      "Epoch 8/50\n",
      "125/125 [==============================] - 24s 191ms/step - loss: -12442791201578.8105 - accuracy: 0.4998 - val_loss: 16739920301260.8008 - val_accuracy: 0.5000\n",
      "Epoch 9/50\n",
      "125/125 [==============================] - 24s 192ms/step - loss: -22810646463221.5469 - accuracy: 0.5002 - val_loss: 29487723739873.2812 - val_accuracy: 0.5000\n",
      "Epoch 10/50\n",
      "125/125 [==============================] - 24s 191ms/step - loss: -39070747194737.2734 - accuracy: 0.4998 - val_loss: 49024880041000.9609 - val_accuracy: 0.5000\n",
      "Epoch 11/50\n",
      "125/125 [==============================] - 24s 193ms/step - loss: -62336701653917.5234 - accuracy: 0.5010 - val_loss: 76242843777105.9219 - val_accuracy: 0.5000\n",
      "Epoch 12/50\n",
      "125/125 [==============================] - 24s 189ms/step - loss: -95387973571245.4531 - accuracy: 0.4998 - val_loss: 114111066522255.3594 - val_accuracy: 0.5000\n",
      "Epoch 13/50\n",
      "125/125 [==============================] - 24s 191ms/step - loss: -139349901879909.9062 - accuracy: 0.5006 - val_loss: 164658386221137.9062 - val_accuracy: 0.5000\n",
      "Epoch 14/50\n",
      "125/125 [==============================] - 24s 193ms/step - loss: -198091834202807.8438 - accuracy: 0.4998 - val_loss: 229836861063823.3750 - val_accuracy: 0.5000\n",
      "Epoch 15/50\n",
      "125/125 [==============================] - 23s 185ms/step - loss: -271603372148767.7812 - accuracy: 0.5018 - val_loss: 311992587659509.7500 - val_accuracy: 0.5000\n",
      "Epoch 16/50\n",
      "125/125 [==============================] - 24s 194ms/step - loss: -366634510130245.3125 - accuracy: 0.4990 - val_loss: 414785645534248.9375 - val_accuracy: 0.5000\n",
      "Epoch 17/50\n",
      "125/125 [==============================] - 24s 191ms/step - loss: -478252378095117.8750 - accuracy: 0.5022 - val_loss: 541045210847641.6250 - val_accuracy: 0.5000\n",
      "Epoch 18/50\n",
      "125/125 [==============================] - 24s 193ms/step - loss: -620083381831260.7500 - accuracy: 0.4998 - val_loss: 690273010015273.0000 - val_accuracy: 0.5000\n",
      "Epoch 19/50\n",
      "125/125 [==============================] - 24s 190ms/step - loss: -791609841939796.7500 - accuracy: 0.4982 - val_loss: 872902828228608.0000 - val_accuracy: 0.5000\n",
      "Epoch 20/50\n",
      "125/125 [==============================] - 24s 189ms/step - loss: -986151308174912.5000 - accuracy: 0.5006 - val_loss: 1084256298540728.3750 - val_accuracy: 0.5000\n",
      "Epoch 21/50\n",
      "125/125 [==============================] - 24s 190ms/step - loss: -1216321522166706.0000 - accuracy: 0.5006 - val_loss: 1331788657396285.5000 - val_accuracy: 0.5000\n",
      "Epoch 22/50\n",
      "125/125 [==============================] - 24s 190ms/step - loss: -1483682100746953.5000 - accuracy: 0.5010 - val_loss: 1613749608314306.5000 - val_accuracy: 0.5000\n",
      "Epoch 23/50\n",
      "125/125 [==============================] - 24s 189ms/step - loss: -1793616720341225.2500 - accuracy: 0.5006 - val_loss: 1939389481400402.0000 - val_accuracy: 0.5000\n",
      "Epoch 24/50\n",
      "125/125 [==============================] - 24s 190ms/step - loss: -2143673712383211.2500 - accuracy: 0.5010 - val_loss: 2307453997222461.5000 - val_accuracy: 0.5000\n",
      "Epoch 25/50\n",
      "125/125 [==============================] - 24s 190ms/step - loss: -2537714422504279.5000 - accuracy: 0.5006 - val_loss: 2729667882312007.5000 - val_accuracy: 0.5000\n",
      "Epoch 26/50\n",
      "125/125 [==============================] - 24s 194ms/step - loss: -2999618555518813.5000 - accuracy: 0.4998 - val_loss: 3201136189285335.0000 - val_accuracy: 0.5000\n",
      "Epoch 27/50\n",
      "125/125 [==============================] - 23s 186ms/step - loss: -3495743916235380.0000 - accuracy: 0.5014 - val_loss: 3725917195159470.0000 - val_accuracy: 0.5000\n",
      "Epoch 28/50\n",
      "125/125 [==============================] - 23s 183ms/step - loss: -4077201870997082.5000 - accuracy: 0.4986 - val_loss: 4315665889618821.0000 - val_accuracy: 0.5000\n",
      "Epoch 29/50\n",
      "125/125 [==============================] - 23s 183ms/step - loss: -4685676724795338.0000 - accuracy: 0.5006 - val_loss: 4960307959792927.0000 - val_accuracy: 0.5000\n",
      "Epoch 30/50\n",
      "125/125 [==============================] - 23s 181ms/step - loss: -5372130183857832.0000 - accuracy: 0.5004 - val_loss: 5703005435246674.0000 - val_accuracy: 0.5000\n",
      "Epoch 31/50\n",
      "125/125 [==============================] - 23s 183ms/step - loss: -6171238368205495.0000 - accuracy: 0.4986 - val_loss: 6473337047036723.0000 - val_accuracy: 0.5000\n",
      "Epoch 32/50\n",
      "125/125 [==============================] - 23s 186ms/step - loss: -6999778747745063.0000 - accuracy: 0.5002 - val_loss: 7347047442530959.0000 - val_accuracy: 0.5000\n",
      "Epoch 33/50\n",
      "125/125 [==============================] - 23s 184ms/step - loss: -7902942581170361.0000 - accuracy: 0.5006 - val_loss: 8295323957104476.0000 - val_accuracy: 0.5000\n",
      "Epoch 34/50\n",
      "125/125 [==============================] - 23s 187ms/step - loss: -8911003934587833.0000 - accuracy: 0.5010 - val_loss: 9353147392133694.0000 - val_accuracy: 0.5000\n",
      "Epoch 35/50\n",
      "125/125 [==============================] - 23s 186ms/step - loss: -10018556420810738.0000 - accuracy: 0.4990 - val_loss: 10424651226787348.0000 - val_accuracy: 0.5000\n",
      "Epoch 36/50\n",
      "125/125 [==============================] - 24s 189ms/step - loss: -11192001506307294.0000 - accuracy: 0.4990 - val_loss: 11645888831244206.0000 - val_accuracy: 0.5000\n",
      "Epoch 37/50\n",
      "125/125 [==============================] - 24s 190ms/step - loss: -12547317941509728.0000 - accuracy: 0.4982 - val_loss: 12981173150443110.0000 - val_accuracy: 0.5000\n",
      "Epoch 38/50\n",
      "125/125 [==============================] - 23s 187ms/step - loss: -13863948952268896.0000 - accuracy: 0.4998 - val_loss: 14412035760586752.0000 - val_accuracy: 0.5000\n",
      "Epoch 39/50\n",
      "125/125 [==============================] - 24s 192ms/step - loss: -15387790895305330.0000 - accuracy: 0.4986 - val_loss: 15921233388036424.0000 - val_accuracy: 0.5000\n",
      "Epoch 40/50\n",
      "125/125 [==============================] - 24s 188ms/step - loss: -16972572421583060.0000 - accuracy: 0.5002 - val_loss: 17560090462482596.0000 - val_accuracy: 0.5000\n",
      "Epoch 41/50\n",
      "125/125 [==============================] - 24s 194ms/step - loss: -18707066533338004.0000 - accuracy: 0.5002 - val_loss: 19306708277122828.0000 - val_accuracy: 0.5000\n",
      "Epoch 42/50\n",
      "125/125 [==============================] - 24s 188ms/step - loss: -20553812309193076.0000 - accuracy: 0.4998 - val_loss: 21271724942541456.0000 - val_accuracy: 0.5000\n",
      "Epoch 43/50\n",
      "125/125 [==============================] - 23s 188ms/step - loss: -22534819260651600.0000 - accuracy: 0.4998 - val_loss: 23212040778594384.0000 - val_accuracy: 0.5000\n",
      "Epoch 44/50\n",
      "125/125 [==============================] - 24s 194ms/step - loss: -24639315189558484.0000 - accuracy: 0.4998 - val_loss: 25453492749048216.0000 - val_accuracy: 0.5000\n",
      "Epoch 45/50\n",
      "125/125 [==============================] - 24s 194ms/step - loss: -26864772595714784.0000 - accuracy: 0.4998 - val_loss: 27679417875856096.0000 - val_accuracy: 0.5000\n",
      "Epoch 46/50\n",
      "125/125 [==============================] - 24s 190ms/step - loss: -29199830579174080.0000 - accuracy: 0.5010 - val_loss: 30053143779485940.0000 - val_accuracy: 0.5000\n",
      "Epoch 47/50\n",
      "125/125 [==============================] - 24s 189ms/step - loss: -31817196889427896.0000 - accuracy: 0.4990 - val_loss: 32785860315483996.0000 - val_accuracy: 0.5000\n",
      "Epoch 48/50\n",
      "125/125 [==============================] - 24s 189ms/step - loss: -34505516060589772.0000 - accuracy: 0.5002 - val_loss: 35541737978021808.0000 - val_accuracy: 0.5000\n",
      "Epoch 49/50\n",
      "125/125 [==============================] - 23s 187ms/step - loss: -37438204416569656.0000 - accuracy: 0.4986 - val_loss: 38337650533964184.0000 - val_accuracy: 0.5000\n",
      "Epoch 50/50\n",
      "125/125 [==============================] - 24s 188ms/step - loss: -40409712640030512.0000 - accuracy: 0.4998 - val_loss: 41491306120174632.0000 - val_accuracy: 0.5000\n"
     ]
    }
   ],
   "source": [
    "#Fit\n",
    "\n",
    "history = model.fit(trainImageData,\n",
    "                   validation_data=testImageData,\n",
    "                   epochs=50,\n",
    "                   steps_per_epoch= int(len(trainImageData.filenames) / trainImageData.batch_size), #No of Images / batch size\n",
    "                   validation_steps= int(len(testImageData.filenames) / testImageData.batch_size)\n",
    "                   )"
   ]
  },
  {
   "cell_type": "markdown",
   "metadata": {},
   "source": [
    "# Attempt 2 "
   ]
  },
  {
   "cell_type": "code",
   "execution_count": null,
   "metadata": {},
   "outputs": [
    {
     "name": "stdout",
     "output_type": "stream",
     "text": [
      "WARNING:tensorflow:sample_weight modes were coerced from\n",
      "  ...\n",
      "    to  \n",
      "  ['...']\n"
     ]
    },
    {
     "name": "stderr",
     "output_type": "stream",
     "text": [
      "WARNING:tensorflow:sample_weight modes were coerced from\n",
      "  ...\n",
      "    to  \n",
      "  ['...']\n"
     ]
    },
    {
     "name": "stdout",
     "output_type": "stream",
     "text": [
      "WARNING:tensorflow:sample_weight modes were coerced from\n",
      "  ...\n",
      "    to  \n",
      "  ['...']\n"
     ]
    },
    {
     "name": "stderr",
     "output_type": "stream",
     "text": [
      "WARNING:tensorflow:sample_weight modes were coerced from\n",
      "  ...\n",
      "    to  \n",
      "  ['...']\n"
     ]
    },
    {
     "name": "stdout",
     "output_type": "stream",
     "text": [
      "Train for 125 steps, validate for 50 steps\n",
      "Epoch 1/50\n",
      "125/125 [==============================] - 24s 193ms/step - loss: -5711676.9332 - accuracy: 0.4966 - val_loss: 44259080.0400 - val_accuracy: 0.5000\n",
      "Epoch 2/50\n",
      "125/125 [==============================] - 24s 192ms/step - loss: -1001648784.8986 - accuracy: 0.5010 - val_loss: 3629669329.9200 - val_accuracy: 0.5000\n",
      "Epoch 3/50\n",
      "125/125 [==============================] - 23s 184ms/step - loss: -16390015536.6006 - accuracy: 0.5010 - val_loss: 39957151539.2000 - val_accuracy: 0.5000\n",
      "Epoch 4/50\n",
      "125/125 [==============================] - 24s 190ms/step - loss: -104469821730.6388 - accuracy: 0.5006 - val_loss: 202764119572.4800 - val_accuracy: 0.5000\n",
      "Epoch 5/50\n",
      "125/125 [==============================] - 24s 191ms/step - loss: -404338362053.3112 - accuracy: 0.5002 - val_loss: 674495630540.8000 - val_accuracy: 0.5000\n",
      "Epoch 6/50\n",
      "125/125 [==============================] - 24s 190ms/step - loss: -1149069443399.4641 - accuracy: 0.5006 - val_loss: 1750323941867.5200 - val_accuracy: 0.5000\n",
      "Epoch 7/50\n",
      "125/125 [==============================] - 23s 185ms/step - loss: -2680726416363.5269 - accuracy: 0.4998 - val_loss: 3795442424872.9600 - val_accuracy: 0.5000\n",
      "Epoch 8/50\n",
      "125/125 [==============================] - 23s 188ms/step - loss: -5496635716760.0771 - accuracy: 0.4998 - val_loss: 7364776747335.6797 - val_accuracy: 0.5000\n",
      "Epoch 9/50\n",
      "125/125 [==============================] - 24s 190ms/step - loss: -10228333901154.8027 - accuracy: 0.4978 - val_loss: 13160288658391.0391 - val_accuracy: 0.5000\n",
      "Epoch 10/50\n",
      "125/125 [==============================] - 23s 185ms/step - loss: -17278456205797.3535 - accuracy: 0.5022 - val_loss: 21696520273264.6406 - val_accuracy: 0.5000\n",
      "Epoch 11/50\n",
      "125/125 [==============================] - 23s 186ms/step - loss: -27666320641471.8164 - accuracy: 0.5018 - val_loss: 33848700971253.7617 - val_accuracy: 0.5000\n",
      "Epoch 12/50\n",
      "125/125 [==============================] - 24s 189ms/step - loss: -42408869579705.7891 - accuracy: 0.4990 - val_loss: 50708195500359.6797 - val_accuracy: 0.5000\n",
      "Epoch 13/50\n",
      "125/125 [==============================] - 24s 189ms/step - loss: -62234795456170.1562 - accuracy: 0.4986 - val_loss: 73356879090155.5156 - val_accuracy: 0.5000\n",
      "Epoch 14/50\n",
      "125/125 [==============================] - 24s 194ms/step - loss: -87822244834018.9531 - accuracy: 0.5002 - val_loss: 102043840759726.0781 - val_accuracy: 0.5000\n",
      "Epoch 15/50\n",
      "125/125 [==============================] - 23s 188ms/step - loss: -120350162487233.3281 - accuracy: 0.5014 - val_loss: 138471406064107.5156 - val_accuracy: 0.5000\n",
      "Epoch 16/50\n",
      "125/125 [==============================] - 24s 188ms/step - loss: -161840348403026.2812 - accuracy: 0.5018 - val_loss: 184192826270023.6875 - val_accuracy: 0.5000\n",
      "Epoch 17/50\n",
      "125/125 [==============================] - 24s 189ms/step - loss: -212491766740518.5000 - accuracy: 0.5006 - val_loss: 239167621981798.4062 - val_accuracy: 0.5000\n",
      "Epoch 18/50\n",
      "125/125 [==============================] - 23s 186ms/step - loss: -275354462539326.6562 - accuracy: 0.4994 - val_loss: 306451267494871.0625 - val_accuracy: 0.5000\n",
      "Epoch 19/50\n",
      "125/125 [==============================] - 24s 190ms/step - loss: -349078289644248.0625 - accuracy: 0.5006 - val_loss: 386031204559749.1250 - val_accuracy: 0.5000\n",
      "Epoch 20/50\n",
      "125/125 [==============================] - 24s 189ms/step - loss: -437567412817906.5000 - accuracy: 0.4998 - val_loss: 479177439738593.2500 - val_accuracy: 0.5000\n",
      "Epoch 21/50\n",
      "125/125 [==============================] - 23s 187ms/step - loss: -538487481692720.5625 - accuracy: 0.5002 - val_loss: 588498411360092.1250 - val_accuracy: 0.5000\n",
      "Epoch 22/50\n",
      "125/125 [==============================] - 23s 188ms/step - loss: -657971582446126.1250 - accuracy: 0.5006 - val_loss: 715271610134691.8750 - val_accuracy: 0.5000\n",
      "Epoch 23/50\n",
      "125/125 [==============================] - 23s 187ms/step - loss: -794053116743317.7500 - accuracy: 0.4998 - val_loss: 858735646406082.5000 - val_accuracy: 0.5000\n",
      "Epoch 24/50\n",
      "125/125 [==============================] - 23s 185ms/step - loss: -951136624021716.5000 - accuracy: 0.5006 - val_loss: 1020170003011338.2500 - val_accuracy: 0.5000\n",
      "Epoch 25/50\n",
      "125/125 [==============================] - 23s 185ms/step - loss: -1128888262978786.0000 - accuracy: 0.5002 - val_loss: 1209163593736519.7500 - val_accuracy: 0.5000\n",
      "Epoch 26/50\n",
      "125/125 [==============================] - 23s 181ms/step - loss: -1328322376518738.0000 - accuracy: 0.4998 - val_loss: 1417625737027911.7500 - val_accuracy: 0.5000\n",
      "Epoch 27/50\n",
      "125/125 [==============================] - 23s 183ms/step - loss: -1550068001814857.2500 - accuracy: 0.4998 - val_loss: 1649338420025098.2500 - val_accuracy: 0.5000\n",
      "Epoch 28/50\n",
      "125/125 [==============================] - 23s 184ms/step - loss: -1797876805134275.2500 - accuracy: 0.5006 - val_loss: 1912014825513287.7500 - val_accuracy: 0.5000\n",
      "Epoch 29/50\n",
      "125/125 [==============================] - 24s 189ms/step - loss: -2079383145011064.5000 - accuracy: 0.5006 - val_loss: 2199840013376553.0000 - val_accuracy: 0.5000\n",
      "Epoch 30/50\n",
      "125/125 [==============================] - 24s 191ms/step - loss: -2386254522926278.0000 - accuracy: 0.5002 - val_loss: 2521619518854267.0000 - val_accuracy: 0.5000\n",
      "Epoch 31/50\n",
      "125/125 [==============================] - 23s 186ms/step - loss: -2714196597846799.5000 - accuracy: 0.5006 - val_loss: 2861650165733785.5000 - val_accuracy: 0.5000\n",
      "Epoch 32/50\n",
      "125/125 [==============================] - 23s 186ms/step - loss: -3082849097182845.5000 - accuracy: 0.5022 - val_loss: 3244417530357350.5000 - val_accuracy: 0.5000\n",
      "Epoch 33/50\n",
      "125/125 [==============================] - 24s 190ms/step - loss: -3486324769672834.5000 - accuracy: 0.5010 - val_loss: 3671684492789022.5000 - val_accuracy: 0.5000\n",
      "Epoch 34/50\n",
      "125/125 [==============================] - 24s 189ms/step - loss: -3938849045367825.5000 - accuracy: 0.5010 - val_loss: 4119814151486832.5000 - val_accuracy: 0.5000\n",
      "Epoch 35/50\n",
      "125/125 [==============================] - 24s 194ms/step - loss: -4423358597562494.0000 - accuracy: 0.5002 - val_loss: 4621185309265101.0000 - val_accuracy: 0.5000\n",
      "Epoch 36/50\n",
      "124/125 [============================>.] - ETA: 0s - loss: -4927920084682818.0000 - accuracy: 0.5022"
     ]
    }
   ],
   "source": [
    "model = tf.keras.models.Sequential()\n",
    "#Conv2D(noFeatureMaps , kernelShape, input_shape, activation)\n",
    "\n",
    "\n",
    "#Step1: Create First Convolutional Layer\n",
    "#Convolve Layer\n",
    "model.add(tf.keras.layers.Conv2D(16 , (3,3) , input_shape = (64, 64, 3) , activation = 'relu' , padding='same'))\n",
    "#Pooling Layer\n",
    "model.add(tf.keras.layers.MaxPooling2D(pool_size = (2,2) ))\n",
    "#model.add(tf.keras.layers.AveragePooling2D(pool_size = (2,2) ))\n",
    "\n",
    "#Step2: Create Second Convolutional Layer\n",
    "#Convolve Layer\n",
    "model.add(tf.keras.layers.Conv2D(16 , (3,3) , activation = 'relu' , padding='same'))\n",
    "#Pooling Layer\n",
    "model.add(tf.keras.layers.MaxPooling2D(pool_size = (2,2) ))\n",
    "\n",
    "#Step3: Flatten\n",
    "\n",
    "model.add(tf.keras.layers.Flatten())\n",
    "\n",
    "#Step4:\n",
    "\n",
    "model.add(tf.keras.layers.Dense(units= 512 , activation = 'relu'))\n",
    "model.add(tf.keras.layers.Dense(units= 256 , activation = 'relu'))\n",
    "\n",
    "model.add(tf.keras.layers.Dense(units= 1 , activation = 'sigmoid'))\n",
    "\n",
    "#Compile\n",
    "model.compile(optimizer=\"adam\",\n",
    "             loss=\"binary_crossentropy\",\n",
    "              metrics=['accuracy']\n",
    "             )\n",
    "\n",
    "\n",
    "history2 = model.fit(trainImageData,\n",
    "                   validation_data=testImageData,\n",
    "                   epochs=50,\n",
    "                   steps_per_epoch= int(len(trainImageData.filenames) / trainImageData.batch_size), #No of Images / batch size\n",
    "                   validation_steps= int(len(testImageData.filenames) / testImageData.batch_size)\n",
    "                   )\n"
   ]
  },
  {
   "cell_type": "code",
   "execution_count": null,
   "metadata": {},
   "outputs": [],
   "source": []
  },
  {
   "cell_type": "markdown",
   "metadata": {},
   "source": [
    "# Attempt 3"
   ]
  },
  {
   "cell_type": "code",
   "execution_count": 19,
   "metadata": {},
   "outputs": [
    {
     "name": "stdout",
     "output_type": "stream",
     "text": [
      "Epoch 1/50\n",
      "100/100 [==============================] - 4s 36ms/step - loss: 0.7040 - accuracy: 0.5765 - val_loss: 0.6757 - val_accuracy: 0.5980\n",
      "Epoch 2/50\n",
      "100/100 [==============================] - 3s 35ms/step - loss: 0.6535 - accuracy: 0.6190 - val_loss: 0.6244 - val_accuracy: 0.6560\n",
      "Epoch 3/50\n",
      "100/100 [==============================] - 3s 34ms/step - loss: 0.5616 - accuracy: 0.7000 - val_loss: 0.6273 - val_accuracy: 0.6730\n",
      "Epoch 4/50\n",
      "100/100 [==============================] - 3s 34ms/step - loss: 0.4736 - accuracy: 0.7775 - val_loss: 0.6762 - val_accuracy: 0.6580\n",
      "Epoch 5/50\n",
      "100/100 [==============================] - 3s 34ms/step - loss: 0.3667 - accuracy: 0.8300 - val_loss: 0.6500 - val_accuracy: 0.6970\n",
      "Epoch 6/50\n",
      "100/100 [==============================] - 3s 35ms/step - loss: 0.2548 - accuracy: 0.8945 - val_loss: 0.8056 - val_accuracy: 0.6470\n",
      "Epoch 7/50\n",
      "100/100 [==============================] - 3s 34ms/step - loss: 0.1850 - accuracy: 0.9340 - val_loss: 1.1080 - val_accuracy: 0.6110\n",
      "Epoch 8/50\n",
      "100/100 [==============================] - 3s 34ms/step - loss: 0.1186 - accuracy: 0.9595 - val_loss: 1.1964 - val_accuracy: 0.6280\n",
      "Epoch 9/50\n",
      "100/100 [==============================] - 3s 34ms/step - loss: 0.0914 - accuracy: 0.9695 - val_loss: 1.2382 - val_accuracy: 0.6510\n",
      "Epoch 10/50\n",
      "100/100 [==============================] - 3s 34ms/step - loss: 0.0585 - accuracy: 0.9810 - val_loss: 1.3183 - val_accuracy: 0.6750\n",
      "Epoch 11/50\n",
      "100/100 [==============================] - 3s 34ms/step - loss: 0.0495 - accuracy: 0.9855 - val_loss: 1.2598 - val_accuracy: 0.6830\n",
      "Epoch 12/50\n",
      "100/100 [==============================] - 3s 35ms/step - loss: 0.0293 - accuracy: 0.9925 - val_loss: 1.4395 - val_accuracy: 0.6540\n",
      "Epoch 13/50\n",
      "100/100 [==============================] - 3s 34ms/step - loss: 0.0583 - accuracy: 0.9765 - val_loss: 1.3667 - val_accuracy: 0.6730\n",
      "Epoch 14/50\n",
      "100/100 [==============================] - 3s 34ms/step - loss: 0.0262 - accuracy: 0.9920 - val_loss: 1.6934 - val_accuracy: 0.6630\n",
      "Epoch 15/50\n",
      "100/100 [==============================] - 3s 35ms/step - loss: 0.0260 - accuracy: 0.9885 - val_loss: 1.5793 - val_accuracy: 0.6530\n",
      "Epoch 16/50\n",
      "100/100 [==============================] - 4s 37ms/step - loss: 0.0240 - accuracy: 0.9925 - val_loss: 1.5853 - val_accuracy: 0.6400\n",
      "Epoch 17/50\n",
      " 73/100 [====================>.........] - ETA: 0s - loss: 0.0099 - accuracy: 0.9966"
     ]
    },
    {
     "ename": "KeyboardInterrupt",
     "evalue": "",
     "output_type": "error",
     "traceback": [
      "\u001b[1;31m---------------------------------------------------------------------------\u001b[0m",
      "\u001b[1;31mKeyboardInterrupt\u001b[0m                         Traceback (most recent call last)",
      "\u001b[1;32m<ipython-input-19-5f870c2199ce>\u001b[0m in \u001b[0;36m<module>\u001b[1;34m\u001b[0m\n\u001b[0;32m     38\u001b[0m                    \u001b[0mepochs\u001b[0m\u001b[1;33m=\u001b[0m\u001b[1;36m50\u001b[0m\u001b[1;33m,\u001b[0m\u001b[1;33m\u001b[0m\u001b[1;33m\u001b[0m\u001b[0m\n\u001b[0;32m     39\u001b[0m                    \u001b[0msteps_per_epoch\u001b[0m\u001b[1;33m=\u001b[0m \u001b[0mint\u001b[0m\u001b[1;33m(\u001b[0m\u001b[0mlen\u001b[0m\u001b[1;33m(\u001b[0m\u001b[0mtrainImageData\u001b[0m\u001b[1;33m.\u001b[0m\u001b[0mfilenames\u001b[0m\u001b[1;33m)\u001b[0m \u001b[1;33m/\u001b[0m \u001b[0mtrainImageData\u001b[0m\u001b[1;33m.\u001b[0m\u001b[0mbatch_size\u001b[0m\u001b[1;33m)\u001b[0m\u001b[1;33m,\u001b[0m \u001b[1;31m#No of Images / batch size\u001b[0m\u001b[1;33m\u001b[0m\u001b[1;33m\u001b[0m\u001b[0m\n\u001b[1;32m---> 40\u001b[1;33m                    \u001b[0mvalidation_steps\u001b[0m\u001b[1;33m=\u001b[0m \u001b[0mint\u001b[0m\u001b[1;33m(\u001b[0m\u001b[0mlen\u001b[0m\u001b[1;33m(\u001b[0m\u001b[0mtestImageData\u001b[0m\u001b[1;33m.\u001b[0m\u001b[0mfilenames\u001b[0m\u001b[1;33m)\u001b[0m \u001b[1;33m/\u001b[0m \u001b[0mtestImageData\u001b[0m\u001b[1;33m.\u001b[0m\u001b[0mbatch_size\u001b[0m\u001b[1;33m)\u001b[0m\u001b[1;33m\u001b[0m\u001b[1;33m\u001b[0m\u001b[0m\n\u001b[0m\u001b[0;32m     41\u001b[0m                    )\n",
      "\u001b[1;32m~\\Anaconda3\\envs\\pnDlMinEnv\\lib\\site-packages\\tensorflow\\python\\keras\\engine\\training.py\u001b[0m in \u001b[0;36m_method_wrapper\u001b[1;34m(self, *args, **kwargs)\u001b[0m\n\u001b[0;32m     64\u001b[0m   \u001b[1;32mdef\u001b[0m \u001b[0m_method_wrapper\u001b[0m\u001b[1;33m(\u001b[0m\u001b[0mself\u001b[0m\u001b[1;33m,\u001b[0m \u001b[1;33m*\u001b[0m\u001b[0margs\u001b[0m\u001b[1;33m,\u001b[0m \u001b[1;33m**\u001b[0m\u001b[0mkwargs\u001b[0m\u001b[1;33m)\u001b[0m\u001b[1;33m:\u001b[0m\u001b[1;33m\u001b[0m\u001b[1;33m\u001b[0m\u001b[0m\n\u001b[0;32m     65\u001b[0m     \u001b[1;32mif\u001b[0m \u001b[1;32mnot\u001b[0m \u001b[0mself\u001b[0m\u001b[1;33m.\u001b[0m\u001b[0m_in_multi_worker_mode\u001b[0m\u001b[1;33m(\u001b[0m\u001b[1;33m)\u001b[0m\u001b[1;33m:\u001b[0m  \u001b[1;31m# pylint: disable=protected-access\u001b[0m\u001b[1;33m\u001b[0m\u001b[1;33m\u001b[0m\u001b[0m\n\u001b[1;32m---> 66\u001b[1;33m       \u001b[1;32mreturn\u001b[0m \u001b[0mmethod\u001b[0m\u001b[1;33m(\u001b[0m\u001b[0mself\u001b[0m\u001b[1;33m,\u001b[0m \u001b[1;33m*\u001b[0m\u001b[0margs\u001b[0m\u001b[1;33m,\u001b[0m \u001b[1;33m**\u001b[0m\u001b[0mkwargs\u001b[0m\u001b[1;33m)\u001b[0m\u001b[1;33m\u001b[0m\u001b[1;33m\u001b[0m\u001b[0m\n\u001b[0m\u001b[0;32m     67\u001b[0m \u001b[1;33m\u001b[0m\u001b[0m\n\u001b[0;32m     68\u001b[0m     \u001b[1;31m# Running inside `run_distribute_coordinator` already.\u001b[0m\u001b[1;33m\u001b[0m\u001b[1;33m\u001b[0m\u001b[1;33m\u001b[0m\u001b[0m\n",
      "\u001b[1;32m~\\Anaconda3\\envs\\pnDlMinEnv\\lib\\site-packages\\tensorflow\\python\\keras\\engine\\training.py\u001b[0m in \u001b[0;36mfit\u001b[1;34m(self, x, y, batch_size, epochs, verbose, callbacks, validation_split, validation_data, shuffle, class_weight, sample_weight, initial_epoch, steps_per_epoch, validation_steps, validation_batch_size, validation_freq, max_queue_size, workers, use_multiprocessing)\u001b[0m\n\u001b[0;32m    846\u001b[0m                 batch_size=batch_size):\n\u001b[0;32m    847\u001b[0m               \u001b[0mcallbacks\u001b[0m\u001b[1;33m.\u001b[0m\u001b[0mon_train_batch_begin\u001b[0m\u001b[1;33m(\u001b[0m\u001b[0mstep\u001b[0m\u001b[1;33m)\u001b[0m\u001b[1;33m\u001b[0m\u001b[1;33m\u001b[0m\u001b[0m\n\u001b[1;32m--> 848\u001b[1;33m               \u001b[0mtmp_logs\u001b[0m \u001b[1;33m=\u001b[0m \u001b[0mtrain_function\u001b[0m\u001b[1;33m(\u001b[0m\u001b[0miterator\u001b[0m\u001b[1;33m)\u001b[0m\u001b[1;33m\u001b[0m\u001b[1;33m\u001b[0m\u001b[0m\n\u001b[0m\u001b[0;32m    849\u001b[0m               \u001b[1;31m# Catch OutOfRangeError for Datasets of unknown size.\u001b[0m\u001b[1;33m\u001b[0m\u001b[1;33m\u001b[0m\u001b[1;33m\u001b[0m\u001b[0m\n\u001b[0;32m    850\u001b[0m               \u001b[1;31m# This blocks until the batch has finished executing.\u001b[0m\u001b[1;33m\u001b[0m\u001b[1;33m\u001b[0m\u001b[1;33m\u001b[0m\u001b[0m\n",
      "\u001b[1;32m~\\Anaconda3\\envs\\pnDlMinEnv\\lib\\site-packages\\tensorflow\\python\\eager\\def_function.py\u001b[0m in \u001b[0;36m__call__\u001b[1;34m(self, *args, **kwds)\u001b[0m\n\u001b[0;32m    578\u001b[0m         \u001b[0mxla_context\u001b[0m\u001b[1;33m.\u001b[0m\u001b[0mExit\u001b[0m\u001b[1;33m(\u001b[0m\u001b[1;33m)\u001b[0m\u001b[1;33m\u001b[0m\u001b[1;33m\u001b[0m\u001b[0m\n\u001b[0;32m    579\u001b[0m     \u001b[1;32melse\u001b[0m\u001b[1;33m:\u001b[0m\u001b[1;33m\u001b[0m\u001b[1;33m\u001b[0m\u001b[0m\n\u001b[1;32m--> 580\u001b[1;33m       \u001b[0mresult\u001b[0m \u001b[1;33m=\u001b[0m \u001b[0mself\u001b[0m\u001b[1;33m.\u001b[0m\u001b[0m_call\u001b[0m\u001b[1;33m(\u001b[0m\u001b[1;33m*\u001b[0m\u001b[0margs\u001b[0m\u001b[1;33m,\u001b[0m \u001b[1;33m**\u001b[0m\u001b[0mkwds\u001b[0m\u001b[1;33m)\u001b[0m\u001b[1;33m\u001b[0m\u001b[1;33m\u001b[0m\u001b[0m\n\u001b[0m\u001b[0;32m    581\u001b[0m \u001b[1;33m\u001b[0m\u001b[0m\n\u001b[0;32m    582\u001b[0m     \u001b[1;32mif\u001b[0m \u001b[0mtracing_count\u001b[0m \u001b[1;33m==\u001b[0m \u001b[0mself\u001b[0m\u001b[1;33m.\u001b[0m\u001b[0m_get_tracing_count\u001b[0m\u001b[1;33m(\u001b[0m\u001b[1;33m)\u001b[0m\u001b[1;33m:\u001b[0m\u001b[1;33m\u001b[0m\u001b[1;33m\u001b[0m\u001b[0m\n",
      "\u001b[1;32m~\\Anaconda3\\envs\\pnDlMinEnv\\lib\\site-packages\\tensorflow\\python\\eager\\def_function.py\u001b[0m in \u001b[0;36m_call\u001b[1;34m(self, *args, **kwds)\u001b[0m\n\u001b[0;32m    609\u001b[0m       \u001b[1;31m# In this case we have created variables on the first call, so we run the\u001b[0m\u001b[1;33m\u001b[0m\u001b[1;33m\u001b[0m\u001b[1;33m\u001b[0m\u001b[0m\n\u001b[0;32m    610\u001b[0m       \u001b[1;31m# defunned version which is guaranteed to never create variables.\u001b[0m\u001b[1;33m\u001b[0m\u001b[1;33m\u001b[0m\u001b[1;33m\u001b[0m\u001b[0m\n\u001b[1;32m--> 611\u001b[1;33m       \u001b[1;32mreturn\u001b[0m \u001b[0mself\u001b[0m\u001b[1;33m.\u001b[0m\u001b[0m_stateless_fn\u001b[0m\u001b[1;33m(\u001b[0m\u001b[1;33m*\u001b[0m\u001b[0margs\u001b[0m\u001b[1;33m,\u001b[0m \u001b[1;33m**\u001b[0m\u001b[0mkwds\u001b[0m\u001b[1;33m)\u001b[0m  \u001b[1;31m# pylint: disable=not-callable\u001b[0m\u001b[1;33m\u001b[0m\u001b[1;33m\u001b[0m\u001b[0m\n\u001b[0m\u001b[0;32m    612\u001b[0m     \u001b[1;32melif\u001b[0m \u001b[0mself\u001b[0m\u001b[1;33m.\u001b[0m\u001b[0m_stateful_fn\u001b[0m \u001b[1;32mis\u001b[0m \u001b[1;32mnot\u001b[0m \u001b[1;32mNone\u001b[0m\u001b[1;33m:\u001b[0m\u001b[1;33m\u001b[0m\u001b[1;33m\u001b[0m\u001b[0m\n\u001b[0;32m    613\u001b[0m       \u001b[1;31m# Release the lock early so that multiple threads can perform the call\u001b[0m\u001b[1;33m\u001b[0m\u001b[1;33m\u001b[0m\u001b[1;33m\u001b[0m\u001b[0m\n",
      "\u001b[1;32m~\\Anaconda3\\envs\\pnDlMinEnv\\lib\\site-packages\\tensorflow\\python\\eager\\function.py\u001b[0m in \u001b[0;36m__call__\u001b[1;34m(self, *args, **kwargs)\u001b[0m\n\u001b[0;32m   2418\u001b[0m     \u001b[1;32mwith\u001b[0m \u001b[0mself\u001b[0m\u001b[1;33m.\u001b[0m\u001b[0m_lock\u001b[0m\u001b[1;33m:\u001b[0m\u001b[1;33m\u001b[0m\u001b[1;33m\u001b[0m\u001b[0m\n\u001b[0;32m   2419\u001b[0m       \u001b[0mgraph_function\u001b[0m\u001b[1;33m,\u001b[0m \u001b[0margs\u001b[0m\u001b[1;33m,\u001b[0m \u001b[0mkwargs\u001b[0m \u001b[1;33m=\u001b[0m \u001b[0mself\u001b[0m\u001b[1;33m.\u001b[0m\u001b[0m_maybe_define_function\u001b[0m\u001b[1;33m(\u001b[0m\u001b[0margs\u001b[0m\u001b[1;33m,\u001b[0m \u001b[0mkwargs\u001b[0m\u001b[1;33m)\u001b[0m\u001b[1;33m\u001b[0m\u001b[1;33m\u001b[0m\u001b[0m\n\u001b[1;32m-> 2420\u001b[1;33m     \u001b[1;32mreturn\u001b[0m \u001b[0mgraph_function\u001b[0m\u001b[1;33m.\u001b[0m\u001b[0m_filtered_call\u001b[0m\u001b[1;33m(\u001b[0m\u001b[0margs\u001b[0m\u001b[1;33m,\u001b[0m \u001b[0mkwargs\u001b[0m\u001b[1;33m)\u001b[0m  \u001b[1;31m# pylint: disable=protected-access\u001b[0m\u001b[1;33m\u001b[0m\u001b[1;33m\u001b[0m\u001b[0m\n\u001b[0m\u001b[0;32m   2421\u001b[0m \u001b[1;33m\u001b[0m\u001b[0m\n\u001b[0;32m   2422\u001b[0m   \u001b[1;33m@\u001b[0m\u001b[0mproperty\u001b[0m\u001b[1;33m\u001b[0m\u001b[1;33m\u001b[0m\u001b[0m\n",
      "\u001b[1;32m~\\Anaconda3\\envs\\pnDlMinEnv\\lib\\site-packages\\tensorflow\\python\\eager\\function.py\u001b[0m in \u001b[0;36m_filtered_call\u001b[1;34m(self, args, kwargs)\u001b[0m\n\u001b[0;32m   1663\u001b[0m          if isinstance(t, (ops.Tensor,\n\u001b[0;32m   1664\u001b[0m                            resource_variable_ops.BaseResourceVariable))),\n\u001b[1;32m-> 1665\u001b[1;33m         self.captured_inputs)\n\u001b[0m\u001b[0;32m   1666\u001b[0m \u001b[1;33m\u001b[0m\u001b[0m\n\u001b[0;32m   1667\u001b[0m   \u001b[1;32mdef\u001b[0m \u001b[0m_call_flat\u001b[0m\u001b[1;33m(\u001b[0m\u001b[0mself\u001b[0m\u001b[1;33m,\u001b[0m \u001b[0margs\u001b[0m\u001b[1;33m,\u001b[0m \u001b[0mcaptured_inputs\u001b[0m\u001b[1;33m,\u001b[0m \u001b[0mcancellation_manager\u001b[0m\u001b[1;33m=\u001b[0m\u001b[1;32mNone\u001b[0m\u001b[1;33m)\u001b[0m\u001b[1;33m:\u001b[0m\u001b[1;33m\u001b[0m\u001b[1;33m\u001b[0m\u001b[0m\n",
      "\u001b[1;32m~\\Anaconda3\\envs\\pnDlMinEnv\\lib\\site-packages\\tensorflow\\python\\eager\\function.py\u001b[0m in \u001b[0;36m_call_flat\u001b[1;34m(self, args, captured_inputs, cancellation_manager)\u001b[0m\n\u001b[0;32m   1744\u001b[0m       \u001b[1;31m# No tape is watching; skip to running the function.\u001b[0m\u001b[1;33m\u001b[0m\u001b[1;33m\u001b[0m\u001b[1;33m\u001b[0m\u001b[0m\n\u001b[0;32m   1745\u001b[0m       return self._build_call_outputs(self._inference_function.call(\n\u001b[1;32m-> 1746\u001b[1;33m           ctx, args, cancellation_manager=cancellation_manager))\n\u001b[0m\u001b[0;32m   1747\u001b[0m     forward_backward = self._select_forward_and_backward_functions(\n\u001b[0;32m   1748\u001b[0m         \u001b[0margs\u001b[0m\u001b[1;33m,\u001b[0m\u001b[1;33m\u001b[0m\u001b[1;33m\u001b[0m\u001b[0m\n",
      "\u001b[1;32m~\\Anaconda3\\envs\\pnDlMinEnv\\lib\\site-packages\\tensorflow\\python\\eager\\function.py\u001b[0m in \u001b[0;36mcall\u001b[1;34m(self, ctx, args, cancellation_manager)\u001b[0m\n\u001b[0;32m    596\u001b[0m               \u001b[0minputs\u001b[0m\u001b[1;33m=\u001b[0m\u001b[0margs\u001b[0m\u001b[1;33m,\u001b[0m\u001b[1;33m\u001b[0m\u001b[1;33m\u001b[0m\u001b[0m\n\u001b[0;32m    597\u001b[0m               \u001b[0mattrs\u001b[0m\u001b[1;33m=\u001b[0m\u001b[0mattrs\u001b[0m\u001b[1;33m,\u001b[0m\u001b[1;33m\u001b[0m\u001b[1;33m\u001b[0m\u001b[0m\n\u001b[1;32m--> 598\u001b[1;33m               ctx=ctx)\n\u001b[0m\u001b[0;32m    599\u001b[0m         \u001b[1;32melse\u001b[0m\u001b[1;33m:\u001b[0m\u001b[1;33m\u001b[0m\u001b[1;33m\u001b[0m\u001b[0m\n\u001b[0;32m    600\u001b[0m           outputs = execute.execute_with_cancellation(\n",
      "\u001b[1;32m~\\Anaconda3\\envs\\pnDlMinEnv\\lib\\site-packages\\tensorflow\\python\\eager\\execute.py\u001b[0m in \u001b[0;36mquick_execute\u001b[1;34m(op_name, num_outputs, inputs, attrs, ctx, name)\u001b[0m\n\u001b[0;32m     58\u001b[0m     \u001b[0mctx\u001b[0m\u001b[1;33m.\u001b[0m\u001b[0mensure_initialized\u001b[0m\u001b[1;33m(\u001b[0m\u001b[1;33m)\u001b[0m\u001b[1;33m\u001b[0m\u001b[1;33m\u001b[0m\u001b[0m\n\u001b[0;32m     59\u001b[0m     tensors = pywrap_tfe.TFE_Py_Execute(ctx._handle, device_name, op_name,\n\u001b[1;32m---> 60\u001b[1;33m                                         inputs, attrs, num_outputs)\n\u001b[0m\u001b[0;32m     61\u001b[0m   \u001b[1;32mexcept\u001b[0m \u001b[0mcore\u001b[0m\u001b[1;33m.\u001b[0m\u001b[0m_NotOkStatusException\u001b[0m \u001b[1;32mas\u001b[0m \u001b[0me\u001b[0m\u001b[1;33m:\u001b[0m\u001b[1;33m\u001b[0m\u001b[1;33m\u001b[0m\u001b[0m\n\u001b[0;32m     62\u001b[0m     \u001b[1;32mif\u001b[0m \u001b[0mname\u001b[0m \u001b[1;32mis\u001b[0m \u001b[1;32mnot\u001b[0m \u001b[1;32mNone\u001b[0m\u001b[1;33m:\u001b[0m\u001b[1;33m\u001b[0m\u001b[1;33m\u001b[0m\u001b[0m\n",
      "\u001b[1;31mKeyboardInterrupt\u001b[0m: "
     ]
    }
   ],
   "source": [
    "model = tf.keras.models.Sequential()\n",
    "#Conv2D(noFeatureMaps , kernelShape, input_shape, activation)\n",
    "\n",
    "\n",
    "#Step1: Create First Convolutional Layer\n",
    "#Convolve Layer\n",
    "model.add(tf.keras.layers.Conv2D(16 , (3,3) , input_shape = (64, 64, 3) , activation = 'tanh' , padding='same'))\n",
    "#Pooling Layer\n",
    "model.add(tf.keras.layers.MaxPooling2D(pool_size = (2,2) ))\n",
    "#model.add(tf.keras.layers.AveragePooling2D(pool_size = (2,2) ))\n",
    "\n",
    "#Step2: Create Second Convolutional Layer\n",
    "#Convolve Layer\n",
    "model.add(tf.keras.layers.Conv2D(16 , (3,3) , activation = 'tanh' , padding='same'))\n",
    "#Pooling Layer\n",
    "model.add(tf.keras.layers.MaxPooling2D(pool_size = (2,2) ))\n",
    "\n",
    "#Step3: Flatten\n",
    "\n",
    "model.add(tf.keras.layers.Flatten())\n",
    "\n",
    "#Step4:\n",
    "model.add(tf.keras.layers.Dropout(0.2))\n",
    "model.add(tf.keras.layers.Dense(units= 512 , activation = 'relu'))\n",
    "model.add(tf.keras.layers.Dense(units= 256 , activation = 'relu'))\n",
    "\n",
    "model.add(tf.keras.layers.Dense(units= 1 , activation = 'sigmoid'))\n",
    "\n",
    "#Compile\n",
    "model.compile(optimizer=tf.keras.optimizers.Nadam(),\n",
    "             loss=\"binary_crossentropy\",\n",
    "              metrics=['accuracy']\n",
    "             )\n",
    "\n",
    "\n",
    "history2 = model.fit(trainImageData,\n",
    "                   validation_data=testImageData,\n",
    "                   epochs=50,\n",
    "                   steps_per_epoch= int(len(trainImageData.filenames) / trainImageData.batch_size), #No of Images / batch size\n",
    "                   validation_steps= int(len(testImageData.filenames) / testImageData.batch_size)\n",
    "                   )"
   ]
  },
  {
   "cell_type": "markdown",
   "metadata": {},
   "source": [
    "# Use the model to classify the image"
   ]
  },
  {
   "cell_type": "code",
   "execution_count": 20,
   "metadata": {},
   "outputs": [
    {
     "data": {
      "text/plain": [
       "<tensorflow.python.keras.engine.sequential.Sequential at 0x222732a3c50>"
      ]
     },
     "execution_count": 20,
     "metadata": {},
     "output_type": "execute_result"
    }
   ],
   "source": [
    "model"
   ]
  },
  {
   "cell_type": "code",
   "execution_count": 24,
   "metadata": {},
   "outputs": [
    {
     "data": {
      "text/plain": [
       "<matplotlib.image.AxesImage at 0x22276f68898>"
      ]
     },
     "execution_count": 24,
     "metadata": {},
     "output_type": "execute_result"
    },
    {
     "data": {
      "image/png": "[encoded data removed]",
      "text/plain": [
       "<Figure size 432x288 with 1 Axes>"
      ]
     },
     "metadata": {
      "needs_background": "light"
     },
     "output_type": "display_data"
    }
   ],
   "source": [
    "img = tf.keras.preprocessing.image.load_img('cats_and_dogs/train/cats/cat.103.jpg' , target_size=(64,64))\n",
    "\n",
    "import matplotlib.pyplot as plt\n",
    "%matplotlib inline\n",
    "\n",
    "plt.imshow(img)"
   ]
  },
  {
   "cell_type": "code",
   "execution_count": 26,
   "metadata": {},
   "outputs": [
    {
     "data": {
      "text/plain": [
       "(64, 64, 3)"
      ]
     },
     "execution_count": 26,
     "metadata": {},
     "output_type": "execute_result"
    }
   ],
   "source": [
    "\n",
    "imgArray = tf.keras.preprocessing.image.img_to_array(img)\n",
    "\n",
    "imgArray.shape"
   ]
  },
  {
   "cell_type": "code",
   "execution_count": 27,
   "metadata": {},
   "outputs": [
    {
     "data": {
      "text/plain": [
       "(1, 64, 64, 3)"
      ]
     },
     "execution_count": 27,
     "metadata": {},
     "output_type": "execute_result"
    }
   ],
   "source": [
    "import numpy as np\n",
    "compatibleImgArray = np.expand_dims(imgArray, axis=0)\n",
    "\n",
    "compatibleImgArray.shape"
   ]
  },
  {
   "cell_type": "code",
   "execution_count": 28,
   "metadata": {},
   "outputs": [
    {
     "name": "stdout",
     "output_type": "stream",
     "text": [
      "WARNING:tensorflow:From <ipython-input-28-f3d8dcac21bf>:1: Sequential.predict_classes (from tensorflow.python.keras.engine.sequential) is deprecated and will be removed after 2021-01-01.\n",
      "Instructions for updating:\n",
      "Please use instead:* `np.argmax(model.predict(x), axis=-1)`,   if your model does multi-class classification   (e.g. if it uses a `softmax` last-layer activation).* `(model.predict(x) > 0.5).astype(\"int32\")`,   if your model does binary classification   (e.g. if it uses a `sigmoid` last-layer activation).\n"
     ]
    },
    {
     "data": {
      "text/plain": [
       "array([[0]])"
      ]
     },
     "execution_count": 28,
     "metadata": {},
     "output_type": "execute_result"
    }
   ],
   "source": [
    "model.predict_classes(compatibleImgArray)"
   ]
  },
  {
   "cell_type": "code",
   "execution_count": 30,
   "metadata": {},
   "outputs": [
    {
     "data": {
      "text/plain": [
       "{'cats': 0, 'dogs': 1}"
      ]
     },
     "execution_count": 30,
     "metadata": {},
     "output_type": "execute_result"
    }
   ],
   "source": [
    "trainImageData.class_indices"
   ]
  },
  {
   "cell_type": "code",
   "execution_count": 31,
   "metadata": {},
   "outputs": [
    {
     "name": "stdout",
     "output_type": "stream",
     "text": [
      "Its a Cat\n"
     ]
    }
   ],
   "source": [
    "if model.predict_classes(compatibleImgArray) == 0:\n",
    "    print(\"Its a Cat\")\n",
    "else:\n",
    "    print(\"Its a Dog\")"
   ]
  },
  {
   "cell_type": "code",
   "execution_count": null,
   "metadata": {},
   "outputs": [],
   "source": []
  }
 ],
 "metadata": {
  "instance_type": "ml.g4dn.xlarge",
  "kernelspec": {
   "display_name": "Python 3",
   "language": "python",
   "name": "python3"
  },
  "language_info": {
   "codemirror_mode": {
    "name": "ipython",
    "version": 3
   },
   "file_extension": ".py",
   "mimetype": "text/x-python",
   "name": "python",
   "nbconvert_exporter": "python",
   "pygments_lexer": "ipython3",
   "version": "3.8.3"
  }
 },
 "nbformat": 4,
 "nbformat_minor": 4
}
